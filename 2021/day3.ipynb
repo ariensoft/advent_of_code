{
 "cells": [
  {
   "cell_type": "code",
   "execution_count": 1,
   "id": "4a308c2c-1a9a-4901-b243-d6601f4e6330",
   "metadata": {},
   "outputs": [],
   "source": [
    "from helpers import *\n",
    "import numpy as np"
   ]
  },
  {
   "cell_type": "code",
   "execution_count": 2,
   "id": "02a09673-d98d-4c5f-92a4-f8d201b4e9d5",
   "metadata": {},
   "outputs": [
    {
     "name": "stdout",
     "output_type": "stream",
     "text": [
      "File already exist. Skipping download\n"
     ]
    },
    {
     "data": {
      "text/plain": [
       "['010101110000\\n',\n",
       " '010011000110\\n',\n",
       " '010101000011\\n',\n",
       " '111100100001\\n',\n",
       " '011100110101\\n']"
      ]
     },
     "execution_count": 2,
     "metadata": {},
     "output_type": "execute_result"
    }
   ],
   "source": [
    "data = get_data(3)\n",
    "data[:5]"
   ]
  },
  {
   "cell_type": "code",
   "execution_count": 3,
   "id": "c43da563-efeb-489c-951b-e6665db3d40c",
   "metadata": {},
   "outputs": [
    {
     "data": {
      "text/plain": [
       "array(['010101110000', '010011000110', '010101000011', '111100100001',\n",
       "       '011100110101', '110001010101', '001111110101', '101100011100',\n",
       "       '010111111011', '101010111101'], dtype='<U12')"
      ]
     },
     "execution_count": 3,
     "metadata": {},
     "output_type": "execute_result"
    }
   ],
   "source": [
    "vals = np.asarray([d.strip() for d in data])\n",
    "vals[:10]"
   ]
  },
  {
   "cell_type": "code",
   "execution_count": 4,
   "id": "f47e070d-fb6c-41a0-8326-746595676bac",
   "metadata": {},
   "outputs": [
    {
     "data": {
      "text/plain": [
       "'0'"
      ]
     },
     "execution_count": 4,
     "metadata": {},
     "output_type": "execute_result"
    }
   ],
   "source": [
    "vals[0][0]"
   ]
  },
  {
   "cell_type": "code",
   "execution_count": 5,
   "id": "f6bdefb0-68f4-49e4-8a04-21d6861ade85",
   "metadata": {},
   "outputs": [
    {
     "name": "stdout",
     "output_type": "stream",
     "text": [
      "000110001010 111001110101\n"
     ]
    }
   ],
   "source": [
    "gama = ''\n",
    "eps = ''\n",
    "for i in range(len(vals[0])):\n",
    "    c = 0\n",
    "    for val in vals:\n",
    "        if val[i] == '1':\n",
    "            c += 1\n",
    "    if c / len(vals) >= 0.5:\n",
    "        gama += '1'\n",
    "        eps += '0'\n",
    "    else:\n",
    "        gama += '0'\n",
    "        eps += '1'\n",
    "    i += 1\n",
    "print(gama, eps)"
   ]
  },
  {
   "cell_type": "code",
   "execution_count": 6,
   "id": "c499458a-b8ce-46cc-b9c0-9736af55f948",
   "metadata": {},
   "outputs": [
    {
     "data": {
      "text/plain": [
       "1458194"
      ]
     },
     "execution_count": 6,
     "metadata": {},
     "output_type": "execute_result"
    }
   ],
   "source": [
    "int(gama, 2) * int(eps, 2)"
   ]
  },
  {
   "cell_type": "markdown",
   "id": "a4c567ae",
   "metadata": {},
   "source": [
    "<h3>Part2</h3>"
   ]
  },
  {
   "cell_type": "code",
   "execution_count": 30,
   "id": "b3dd55e6",
   "metadata": {},
   "outputs": [],
   "source": [
    "def recursive_fun(data, iteration=0, reverse=False):\n",
    "    if len(data) > 1:\n",
    "        bina = []\n",
    "        binb = []\n",
    "        for d in data:\n",
    "            if d[iteration] == '1':\n",
    "                bina.append(d)\n",
    "            else:\n",
    "                binb.append(d)\n",
    "        if not reverse:\n",
    "            if len(bina) > len(binb):\n",
    "                data = bina\n",
    "            elif len(bina) == len(binb):\n",
    "                data = bina\n",
    "            else:\n",
    "                data = binb\n",
    "            return recursive_fun(data, iteration+1)\n",
    "        else:\n",
    "            if len(bina) > len(binb):\n",
    "                data = binb\n",
    "            elif len(bina) == len(binb):\n",
    "                data = binb\n",
    "            else:\n",
    "                data = bina\n",
    "            return recursive_fun(data, iteration+1, reverse=True)\n",
    "    return int(data[0], 2)"
   ]
  },
  {
   "cell_type": "code",
   "execution_count": 31,
   "id": "9d675231-9d34-40d1-9f66-a76144f6c377",
   "metadata": {},
   "outputs": [
    {
     "name": "stdout",
     "output_type": "stream",
     "text": [
      "789\n"
     ]
    }
   ],
   "source": [
    "ogr = recursive_fun(vals)\n",
    "print(ogr)"
   ]
  },
  {
   "cell_type": "code",
   "execution_count": 32,
   "id": "df5f1d10-118e-42ed-a3f3-94aea7ffc45e",
   "metadata": {},
   "outputs": [
    {
     "name": "stdout",
     "output_type": "stream",
     "text": [
      "3586\n"
     ]
    }
   ],
   "source": [
    "co2 = recursive_fun(vals, reverse=True)\n",
    "print(co2)"
   ]
  },
  {
   "cell_type": "code",
   "execution_count": 33,
   "id": "2c504da5-d2ff-4010-8194-358d0d626237",
   "metadata": {},
   "outputs": [
    {
     "data": {
      "text/plain": [
       "2829354"
      ]
     },
     "execution_count": 33,
     "metadata": {},
     "output_type": "execute_result"
    }
   ],
   "source": [
    "ogr * co2"
   ]
  },
  {
   "cell_type": "code",
   "execution_count": null,
   "id": "cd6d50cc-afcf-42f2-85b8-a2b88d367d12",
   "metadata": {},
   "outputs": [],
   "source": []
  }
 ],
 "metadata": {
  "kernelspec": {
   "display_name": "tf",
   "language": "python",
   "name": "tf"
  },
  "language_info": {
   "codemirror_mode": {
    "name": "ipython",
    "version": 3
   },
   "file_extension": ".py",
   "mimetype": "text/x-python",
   "name": "python",
   "nbconvert_exporter": "python",
   "pygments_lexer": "ipython3",
   "version": "3.9.13"
  }
 },
 "nbformat": 4,
 "nbformat_minor": 5
}
