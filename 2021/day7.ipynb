{
 "cells": [
  {
   "cell_type": "code",
   "execution_count": 1,
   "id": "398dd943-855c-4722-9c42-08c26b37a361",
   "metadata": {},
   "outputs": [
    {
     "name": "stdout",
     "output_type": "stream",
     "text": [
      "File already exist. Skipping download\n"
     ]
    },
    {
     "data": {
      "text/plain": [
       "'1101,1,29,'"
      ]
     },
     "execution_count": 1,
     "metadata": {},
     "output_type": "execute_result"
    }
   ],
   "source": [
    "from helpers import *\n",
    "import numpy as np\n",
    "\n",
    "\n",
    "data = get_data(7)\n",
    "data[0][:10]"
   ]
  },
  {
   "cell_type": "code",
   "execution_count": 2,
   "id": "ff38ea97-8e53-495c-9583-2c7ac32c8a33",
   "metadata": {},
   "outputs": [
    {
     "data": {
      "text/plain": [
       "array([1101,    1,   29,   67, 1102,    0,    1,   65, 1008,   65],\n",
       "      dtype=int32)"
      ]
     },
     "execution_count": 2,
     "metadata": {},
     "output_type": "execute_result"
    }
   ],
   "source": [
    "nums = np.asarray(data[0].strip().split(','), dtype=np.int32)\n",
    "nums_p2 = nums.copy()\n",
    "nums[:10]"
   ]
  },
  {
   "cell_type": "code",
   "execution_count": 3,
   "id": "d7f70bcc-38d5-45c2-979e-716a18acc737",
   "metadata": {},
   "outputs": [
    {
     "data": {
      "text/plain": [
       "(500, 361)"
      ]
     },
     "execution_count": 3,
     "metadata": {},
     "output_type": "execute_result"
    }
   ],
   "source": [
    "mean = np.mean(nums, dtype=int)\n",
    "median = int(np.median(nums))\n",
    "mean, median"
   ]
  },
  {
   "cell_type": "code",
   "execution_count": 4,
   "id": "e3b2069e-013a-4454-b99b-887d40cd33e7",
   "metadata": {},
   "outputs": [
    {
     "data": {
      "text/plain": [
       "364898"
      ]
     },
     "execution_count": 4,
     "metadata": {},
     "output_type": "execute_result"
    }
   ],
   "source": [
    "fuel = 0\n",
    "for n in nums:\n",
    "    fuel += abs(n - median)\n",
    "fuel"
   ]
  },
  {
   "cell_type": "markdown",
   "id": "013c78d2-8da5-4596-9b77-777af6d52323",
   "metadata": {},
   "source": [
    "<h3>Part 2</h3>"
   ]
  },
  {
   "cell_type": "code",
   "execution_count": 5,
   "id": "bbad197e-3286-42c0-9ca0-e854d9701bc2",
   "metadata": {},
   "outputs": [
    {
     "data": {
      "text/plain": [
       "104149091"
      ]
     },
     "execution_count": 5,
     "metadata": {},
     "output_type": "execute_result"
    }
   ],
   "source": [
    "fuel = 0\n",
    "for n in nums:\n",
    "    steps = abs(n - mean)\n",
    "    fuel += steps * (steps + 1) / 2\n",
    "int(fuel)"
   ]
  },
  {
   "cell_type": "code",
   "execution_count": 6,
   "id": "8e2da29b-1e40-4722-acfb-a526d4d7dbdd",
   "metadata": {},
   "outputs": [],
   "source": [
    "#i really suxx in math tho.. but math is faster than any algo. i still dont get why i must use median in the first part"
   ]
  },
  {
   "cell_type": "code",
   "execution_count": null,
   "id": "bb6a01c3-1314-4e90-9667-330c91d5a327",
   "metadata": {},
   "outputs": [],
   "source": []
  }
 ],
 "metadata": {
  "kernelspec": {
   "display_name": "Python 3 (ipykernel)",
   "language": "python",
   "name": "python3"
  },
  "language_info": {
   "codemirror_mode": {
    "name": "ipython",
    "version": 3
   },
   "file_extension": ".py",
   "mimetype": "text/x-python",
   "name": "python",
   "nbconvert_exporter": "python",
   "pygments_lexer": "ipython3",
   "version": "3.9.12"
  }
 },
 "nbformat": 4,
 "nbformat_minor": 5
}
