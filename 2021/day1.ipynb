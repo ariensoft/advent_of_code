{
 "cells": [
  {
   "cell_type": "code",
   "execution_count": 1,
   "id": "f4ff3f7e-93d5-446d-b824-4ed3857ff2fd",
   "metadata": {},
   "outputs": [],
   "source": [
    "from helpers import *"
   ]
  },
  {
   "cell_type": "code",
   "execution_count": 2,
   "id": "eb31ae46-1d78-46c0-a4ef-008a5e5d7499",
   "metadata": {},
   "outputs": [
    {
     "name": "stdout",
     "output_type": "stream",
     "text": [
      "File already exist. Skipping download\n"
     ]
    }
   ],
   "source": [
    "url = 'https://adventofcode.com/2021/day/1/input'\n",
    "target_path = 'data/d1_data.txt'\n",
    "download_data(url, target_path)"
   ]
  },
  {
   "cell_type": "code",
   "execution_count": 3,
   "id": "5b4747d5-7166-4a66-9414-cd7b20a61ca5",
   "metadata": {},
   "outputs": [
    {
     "name": "stdout",
     "output_type": "stream",
     "text": [
      "There is total of 2000 meassurements. 1451 is bigger than the previous one.\n"
     ]
    }
   ],
   "source": [
    "bigger = 0\n",
    "\n",
    "with open(target_path, 'r') as f:\n",
    "    lines = f.readlines()\n",
    "i = 0\n",
    "for i in range(len(lines)):\n",
    "    if i != 0:\n",
    "        if int(lines[i].strip()) > int(lines[i-1].strip()):\n",
    "            bigger += 1\n",
    "    i += 1        \n",
    "print(f\"There is total of {len(lines)} meassurements. {bigger} is bigger than the previous one.\")"
   ]
  },
  {
   "cell_type": "markdown",
   "id": "bc3b85b2-4efe-4b57-831f-d635f993fcd0",
   "metadata": {},
   "source": [
    "<h3>Part 2 rolling window</h3>"
   ]
  },
  {
   "cell_type": "code",
   "execution_count": 4,
   "id": "0be7d714-5ada-44db-8c6c-2ef2e0232f90",
   "metadata": {},
   "outputs": [],
   "source": [
    "import numpy as np\n",
    "from numpy.lib.stride_tricks import sliding_window_view"
   ]
  },
  {
   "cell_type": "code",
   "execution_count": 5,
   "id": "287fcb45-6361-4f15-89c3-b34d1836474d",
   "metadata": {},
   "outputs": [
    {
     "data": {
      "text/plain": [
       "array([ 159,  170,  171, ..., 5877, 5878, 5881])"
      ]
     },
     "execution_count": 5,
     "metadata": {},
     "output_type": "execute_result"
    }
   ],
   "source": [
    "vals = np.asarray([int(l.strip()) for l in lines])\n",
    "vals"
   ]
  },
  {
   "cell_type": "code",
   "execution_count": 6,
   "id": "18019d17-06ff-408d-be79-b6ff0bef213d",
   "metadata": {},
   "outputs": [
    {
     "data": {
      "text/plain": [
       "array([[ 159,  170,  171],\n",
       "       [ 170,  171,  170],\n",
       "       [ 171,  170,  168],\n",
       "       ...,\n",
       "       [5877, 5878, 5877],\n",
       "       [5878, 5877, 5878],\n",
       "       [5877, 5878, 5881]])"
      ]
     },
     "execution_count": 6,
     "metadata": {},
     "output_type": "execute_result"
    }
   ],
   "source": [
    "v = sliding_window_view(vals, 3)\n",
    "v"
   ]
  },
  {
   "cell_type": "code",
   "execution_count": 7,
   "id": "c3a2483f-4429-49d5-b2e4-271023afea2a",
   "metadata": {},
   "outputs": [
    {
     "data": {
      "text/plain": [
       "array([  500,   511,   509, ..., 17632, 17633, 17636])"
      ]
     },
     "execution_count": 7,
     "metadata": {},
     "output_type": "execute_result"
    }
   ],
   "source": [
    "summed = np.sum(v, axis = 1)\n",
    "summed"
   ]
  },
  {
   "cell_type": "code",
   "execution_count": 8,
   "id": "a5dc4cdb-b9bc-4118-b177-7ab5c6af351d",
   "metadata": {},
   "outputs": [
    {
     "name": "stdout",
     "output_type": "stream",
     "text": [
      "There is total of 1998 meassurements. 1395 is bigger than the previous one.\n"
     ]
    }
   ],
   "source": [
    "bigger = 0\n",
    "\n",
    "for i in range(len(summed)):\n",
    "    if i != 0:\n",
    "        if summed[i] > summed[i-1]:\n",
    "            bigger += 1\n",
    "    i += 1        \n",
    "print(f\"There is total of {len(summed)} meassurements. {bigger} is bigger than the previous one.\")"
   ]
  },
  {
   "cell_type": "code",
   "execution_count": null,
   "id": "5a4d9add-6357-4cc9-9844-18ce86fd85fc",
   "metadata": {},
   "outputs": [],
   "source": []
  }
 ],
 "metadata": {
  "kernelspec": {
   "display_name": "tf",
   "language": "python",
   "name": "tf"
  },
  "language_info": {
   "codemirror_mode": {
    "name": "ipython",
    "version": 3
   },
   "file_extension": ".py",
   "mimetype": "text/x-python",
   "name": "python",
   "nbconvert_exporter": "python",
   "pygments_lexer": "ipython3",
   "version": "3.9.13"
  }
 },
 "nbformat": 4,
 "nbformat_minor": 5
}
