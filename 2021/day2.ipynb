{
 "cells": [
  {
   "cell_type": "code",
   "execution_count": 1,
   "id": "59abe89b-c2eb-401d-bac6-7a09159a1854",
   "metadata": {},
   "outputs": [
    {
     "name": "stdout",
     "output_type": "stream",
     "text": [
      "File already exist. Skipping download\n"
     ]
    },
    {
     "data": {
      "text/plain": [
       "True"
      ]
     },
     "execution_count": 1,
     "metadata": {},
     "output_type": "execute_result"
    }
   ],
   "source": [
    "from helpers import *\n",
    "\n",
    "url = 'https://adventofcode.com/2021/day/2/input'\n",
    "target_path = 'data/d2_data.txt'\n",
    "download_data(url, target_path)"
   ]
  },
  {
   "cell_type": "code",
   "execution_count": 2,
   "id": "97c4796f-c318-4fcb-b6d0-6669a78e83bb",
   "metadata": {},
   "outputs": [],
   "source": [
    "with open(target_path, 'r') as f:\n",
    "    lines = f.readlines()"
   ]
  },
  {
   "cell_type": "code",
   "execution_count": 8,
   "id": "9ea032fa-48da-4fc5-adec-a7b9f660db21",
   "metadata": {},
   "outputs": [
    {
     "data": {
      "text/plain": [
       "['up 7\\n', 'down 7\\n', 'forward 7\\n']"
      ]
     },
     "execution_count": 8,
     "metadata": {},
     "output_type": "execute_result"
    }
   ],
   "source": [
    "lines[-3:]"
   ]
  },
  {
   "cell_type": "code",
   "execution_count": 4,
   "id": "a5af4a08-ffe7-40bf-9514-b6d7b5aa1f0b",
   "metadata": {},
   "outputs": [
    {
     "name": "stdout",
     "output_type": "stream",
     "text": [
      "1580000\n"
     ]
    }
   ],
   "source": [
    "pos = [0, 0] # position, depth\n",
    "for c in lines:\n",
    "    x = c.split(' ')\n",
    "    val = int(x[1].strip())\n",
    "    if x[0] == 'forward':\n",
    "        pos[0] += val\n",
    "    elif x[0] == 'down':\n",
    "        pos[1] += val\n",
    "    elif x[0] == 'up':\n",
    "        pos[1] -= val\n",
    "    else:\n",
    "        print('wtf!')\n",
    "        break\n",
    "print(pos[0] * pos[1])"
   ]
  },
  {
   "cell_type": "markdown",
   "id": "dde96774-3443-4703-b723-eb5697bc5a8f",
   "metadata": {},
   "source": [
    "<h3>Part 2</h3>"
   ]
  },
  {
   "cell_type": "code",
   "execution_count": 5,
   "id": "d68ec3b4-aa35-4eb8-adc1-90e5a24b6ce2",
   "metadata": {},
   "outputs": [
    {
     "name": "stdout",
     "output_type": "stream",
     "text": [
      "1251263225\n"
     ]
    }
   ],
   "source": [
    "pos = {'fow' : 0, 'depth' : 0, 'aim' : 0} \n",
    "for c in lines:\n",
    "    x = c.split(' ')\n",
    "    val = int(x[1].strip())\n",
    "    if x[0] == 'forward':\n",
    "        pos['fow'] += val\n",
    "        pos['depth'] += pos['aim'] * val\n",
    "    elif x[0] == 'down':\n",
    "        pos['aim'] += val\n",
    "    elif x[0] == 'up':\n",
    "        pos['aim'] -= val\n",
    "    else:\n",
    "        print('wtf!')\n",
    "        break\n",
    "print(pos['fow'] * pos['depth'])"
   ]
  },
  {
   "cell_type": "code",
   "execution_count": null,
   "id": "be257548-2a72-4aee-8149-a2d3231c7e42",
   "metadata": {},
   "outputs": [],
   "source": []
  }
 ],
 "metadata": {
  "kernelspec": {
   "display_name": "tf",
   "language": "python",
   "name": "tf"
  },
  "language_info": {
   "codemirror_mode": {
    "name": "ipython",
    "version": 3
   },
   "file_extension": ".py",
   "mimetype": "text/x-python",
   "name": "python",
   "nbconvert_exporter": "python",
   "pygments_lexer": "ipython3",
   "version": "3.9.13"
  }
 },
 "nbformat": 4,
 "nbformat_minor": 5
}
