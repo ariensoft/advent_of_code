{
 "cells": [
  {
   "cell_type": "code",
   "execution_count": 1,
   "id": "cd23f0ab-29a2-411d-9675-dca88e4d0f32",
   "metadata": {},
   "outputs": [
    {
     "name": "stdout",
     "output_type": "stream",
     "text": [
      "File already exist. Skipping download\n"
     ]
    },
    {
     "data": {
      "text/plain": [
       "['1,1,1,1,2,1,1,4,1,4,3,1,1,1,1,1,1,1,1,4,1,3,1,1,1,5,1,3,1,4,1,2,1,1,5,1,1,1,1,1,1,1,1,1,1,3,4,1,5,1,1,1,1,1,1,1,1,1,3,1,4,1,1,1,1,3,5,1,1,2,1,1,1,1,4,4,1,1,1,4,1,1,4,2,4,4,5,1,1,1,1,2,3,1,1,4,1,5,1,1,1,3,1,1,1,1,5,5,1,2,2,2,2,1,1,2,1,1,1,1,1,3,1,1,1,2,3,1,5,1,1,1,2,2,1,1,1,1,1,3,2,1,1,1,4,3,1,1,4,1,5,4,1,4,1,1,1,1,1,1,1,1,1,1,2,2,4,5,1,1,1,1,5,4,1,3,1,1,1,1,4,3,3,3,1,2,3,1,1,1,1,1,1,1,1,2,1,1,1,5,1,3,1,4,3,1,3,1,5,1,1,1,1,3,1,5,1,2,4,1,1,4,1,4,4,2,1,2,1,3,3,1,4,4,1,1,3,4,1,1,1,2,5,2,5,1,1,1,4,1,1,1,1,1,1,3,1,5,1,2,1,1,1,1,1,4,4,1,1,1,5,1,1,5,1,2,1,5,1,1,1,1,1,1,1,1,1,1,1,1,3,2,4,1,1,2,1,1,3,2\\n']"
      ]
     },
     "execution_count": 1,
     "metadata": {},
     "output_type": "execute_result"
    }
   ],
   "source": [
    "from helpers import *\n",
    "import numpy as np\n",
    "\n",
    "\n",
    "data = get_data(6)\n",
    "data"
   ]
  },
  {
   "cell_type": "code",
   "execution_count": 2,
   "id": "a165faba-4369-42f5-ab30-3b6d5a61c486",
   "metadata": {},
   "outputs": [],
   "source": [
    "nums = np.asarray(data[0].strip().split(','), dtype=np.int8)\n",
    "nums_p2 = nums.copy()"
   ]
  },
  {
   "cell_type": "code",
   "execution_count": 3,
   "id": "a25dbd14-6a24-448a-920f-33a779c04809",
   "metadata": {},
   "outputs": [
    {
     "data": {
      "text/plain": [
       "300"
      ]
     },
     "execution_count": 3,
     "metadata": {},
     "output_type": "execute_result"
    }
   ],
   "source": [
    "len(nums)"
   ]
  },
  {
   "cell_type": "code",
   "execution_count": 4,
   "id": "337277d4-63c6-4fb8-90b1-ed705b406aa2",
   "metadata": {},
   "outputs": [],
   "source": [
    "def birdth_sim(data):\n",
    "    for i,d in enumerate(data):\n",
    "        if d > 0:\n",
    "            data[i] -= 1\n",
    "        else:\n",
    "            data = np.append(data, 8)\n",
    "            data[i] = 6\n",
    "    return data"
   ]
  },
  {
   "cell_type": "code",
   "execution_count": 5,
   "id": "8df22ce6-9a1a-4140-8735-d6197f955c5c",
   "metadata": {},
   "outputs": [],
   "source": [
    "for i in range(80):\n",
    "    nums = birdth_sim(nums)"
   ]
  },
  {
   "cell_type": "code",
   "execution_count": 6,
   "id": "4753e86f-fd0e-4195-b9ca-2d166daf2fe5",
   "metadata": {},
   "outputs": [
    {
     "data": {
      "text/plain": [
       "386536"
      ]
     },
     "execution_count": 6,
     "metadata": {},
     "output_type": "execute_result"
    }
   ],
   "source": [
    "len(nums)"
   ]
  },
  {
   "cell_type": "markdown",
   "id": "01d2052f-3435-4ff9-a909-4b6378ee6f07",
   "metadata": {},
   "source": [
    "<h3>Part 2</h3>"
   ]
  },
  {
   "cell_type": "code",
   "execution_count": 7,
   "id": "6e6260ec-a9d8-48a7-89d9-d467f3ffe40d",
   "metadata": {},
   "outputs": [],
   "source": [
    "# Previous sollution will not work, because of difficulty of O(nx). Possible sollutions is to use of tensorflow or reduce the problem to its basics."
   ]
  },
  {
   "cell_type": "code",
   "execution_count": 8,
   "id": "8001a9b2-d1f1-42bf-b0a2-3eb3f3ec61b9",
   "metadata": {},
   "outputs": [
    {
     "data": {
      "text/plain": [
       "1732821262171"
      ]
     },
     "execution_count": 8,
     "metadata": {},
     "output_type": "execute_result"
    }
   ],
   "source": [
    "population = []\n",
    "\n",
    "for i in range(256):\n",
    "    if i == 0:\n",
    "        for c in range(9):\n",
    "            population.append(np.count_nonzero(nums_p2 == c))\n",
    "    newborns = population[0]\n",
    "    for p in range(9):\n",
    "        if p < 8:\n",
    "            population[p] = population[p + 1]\n",
    "        else:\n",
    "            population[p] = newborns\n",
    "            population[6] += newborns\n",
    "\n",
    "sum(population)"
   ]
  },
  {
   "cell_type": "code",
   "execution_count": null,
   "id": "c760f37a-4584-47cf-8a04-c6dcbcf6cf26",
   "metadata": {},
   "outputs": [],
   "source": []
  },
  {
   "cell_type": "code",
   "execution_count": null,
   "id": "245b547d-6a0e-4024-829f-f623da302104",
   "metadata": {},
   "outputs": [],
   "source": []
  }
 ],
 "metadata": {
  "kernelspec": {
   "display_name": "Python 3 (ipykernel)",
   "language": "python",
   "name": "python3"
  },
  "language_info": {
   "codemirror_mode": {
    "name": "ipython",
    "version": 3
   },
   "file_extension": ".py",
   "mimetype": "text/x-python",
   "name": "python",
   "nbconvert_exporter": "python",
   "pygments_lexer": "ipython3",
   "version": "3.9.12"
  }
 },
 "nbformat": 4,
 "nbformat_minor": 5
}
