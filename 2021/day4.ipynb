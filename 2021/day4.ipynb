{
 "cells": [
  {
   "cell_type": "code",
   "execution_count": 1,
   "id": "4440b728-f92a-49fb-8ced-b9a18cc2ce94",
   "metadata": {},
   "outputs": [],
   "source": [
    "from helpers import *\n",
    "import numpy as np"
   ]
  },
  {
   "cell_type": "code",
   "execution_count": 2,
   "id": "1295e7b1-3707-4553-af42-63f3c5238bc6",
   "metadata": {},
   "outputs": [
    {
     "name": "stdout",
     "output_type": "stream",
     "text": [
      "File already exist. Skipping download\n"
     ]
    },
    {
     "data": {
      "text/plain": [
       "['37,60,87,13,34,72,45,49,61,27,97,88,50,30,76,40,63,9,38,67,82,6,59,90,99,54,11,66,98,23,64,14,18,4,10,89,46,32,19,5,1,53,25,96,2,12,86,58,41,68,95,8,7,3,85,70,35,55,77,44,36,51,15,52,56,57,91,16,71,92,84,17,33,29,47,75,80,39,83,74,73,65,78,69,21,42,31,93,22,62,24,48,81,0,26,43,20,28,94,79\\n',\n",
       " '\\n',\n",
       " '66 78  7 45 92\\n',\n",
       " '39 38 62 81 77\\n',\n",
       " ' 9 73 25 97 99\\n',\n",
       " '87 80 19  1 71\\n',\n",
       " '85 35 52 26 68\\n',\n",
       " '\\n',\n",
       " '47 38 84 53 16\\n',\n",
       " '66  3 63 92 94\\n']"
      ]
     },
     "execution_count": 2,
     "metadata": {},
     "output_type": "execute_result"
    }
   ],
   "source": [
    "data = get_data(4)\n",
    "data[:10]"
   ]
  },
  {
   "cell_type": "code",
   "execution_count": 3,
   "id": "51d34322-2ec0-4697-8646-43a755376113",
   "metadata": {},
   "outputs": [
    {
     "data": {
      "text/plain": [
       "[24, 48, 81, 0, 26, 43, 20, 28, 94, 79]"
      ]
     },
     "execution_count": 3,
     "metadata": {},
     "output_type": "execute_result"
    }
   ],
   "source": [
    "numbers = list(map(int, data[0].strip().split(',')))\n",
    "numbers[-10:]"
   ]
  },
  {
   "cell_type": "code",
   "execution_count": 4,
   "id": "2337befb-77f7-4e0b-a012-b50203cf0db4",
   "metadata": {},
   "outputs": [
    {
     "data": {
      "text/plain": [
       "(100, 5, 5)"
      ]
     },
     "execution_count": 4,
     "metadata": {},
     "output_type": "execute_result"
    }
   ],
   "source": [
    "boards = []\n",
    "tmp = []\n",
    "c = 0\n",
    "for d in data:\n",
    "    if len(d) == 15:\n",
    "        tmp.append(d.strip().split())\n",
    "        c += 1\n",
    "        if c == 5:\n",
    "            c = 0\n",
    "            boards.append(np.asarray(tmp, dtype=np.int32))\n",
    "            tmp = []\n",
    "boards = np.array(boards)\n",
    "boards_p2 = boards.copy()\n",
    "boards.shape"
   ]
  },
  {
   "cell_type": "code",
   "execution_count": 5,
   "id": "b6fddfc1-53c9-4829-b2ed-530bd9c7f659",
   "metadata": {},
   "outputs": [
    {
     "name": "stdout",
     "output_type": "stream",
     "text": [
      "[[-1 93 48 17 33]\n",
      " [-1  7  5  0 69]\n",
      " [-1 -1 52  1 -1]\n",
      " [-1 73 -1 25 16]\n",
      " [-1 20 41 77 62]]\n",
      "34506\n"
     ]
    }
   ],
   "source": [
    "winner = 0\n",
    "for num in numbers:\n",
    "    for board in boards:\n",
    "        b = np.where(board == num)\n",
    "        if len(b[0]) > 0:\n",
    "            board[b[0], b[1]] = -1\n",
    "        if any(np.sum(board, axis=0) == -5) or any(np.sum(board, axis=1) == -5):\n",
    "            print(board)\n",
    "            winner = np.sum((board != -1) * board) * num\n",
    "            break\n",
    "    if winner > 0:\n",
    "        print(winner)\n",
    "        break"
   ]
  },
  {
   "cell_type": "markdown",
   "id": "31a95f4e-d7d0-4c99-a7d6-fd91377a3eb2",
   "metadata": {},
   "source": [
    "<h3>Part 2</h3>"
   ]
  },
  {
   "cell_type": "code",
   "execution_count": 6,
   "id": "7e149dc8-5eab-43e1-81eb-a9f64d8ec584",
   "metadata": {},
   "outputs": [],
   "source": [
    "scores = []\n",
    "for num in numbers:\n",
    "    winners = []\n",
    "    for x, board in enumerate(boards_p2):\n",
    "        winner = 0\n",
    "        b = np.where(board == num)\n",
    "        if len(b[0]) > 0:\n",
    "            board[b[0], b[1]] = -1\n",
    "        if any(np.sum(board, axis=0) == -5) or any(np.sum(board, axis=1) == -5):\n",
    "            winner = np.sum((board != -1) * board) * num\n",
    "            winners.append(x)\n",
    "            scores.append(winner)\n",
    "    if len(winners) > 0:\n",
    "        boards_p2 = np.delete(boards_p2, winners, 0)"
   ]
  },
  {
   "cell_type": "code",
   "execution_count": 7,
   "id": "0bd39aa4-23a7-4af3-ab40-f2f7b9573830",
   "metadata": {},
   "outputs": [
    {
     "data": {
      "text/plain": [
       "7686"
      ]
     },
     "execution_count": 7,
     "metadata": {},
     "output_type": "execute_result"
    }
   ],
   "source": [
    "scores[-1]"
   ]
  },
  {
   "cell_type": "code",
   "execution_count": null,
   "id": "e0ad79cf-5534-4b88-baa3-23aa577338fa",
   "metadata": {},
   "outputs": [],
   "source": []
  }
 ],
 "metadata": {
  "kernelspec": {
   "display_name": "Python 3 (ipykernel)",
   "language": "python",
   "name": "python3"
  },
  "language_info": {
   "codemirror_mode": {
    "name": "ipython",
    "version": 3
   },
   "file_extension": ".py",
   "mimetype": "text/x-python",
   "name": "python",
   "nbconvert_exporter": "python",
   "pygments_lexer": "ipython3",
   "version": "3.9.12"
  }
 },
 "nbformat": 4,
 "nbformat_minor": 5
}
