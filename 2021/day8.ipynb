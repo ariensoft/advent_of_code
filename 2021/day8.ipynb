{
 "cells": [
  {
   "cell_type": "code",
   "execution_count": 1,
   "id": "bb461b8a-311e-4ccc-aced-f267041d273d",
   "metadata": {},
   "outputs": [
    {
     "name": "stdout",
     "output_type": "stream",
     "text": [
      "File already exist. Skipping download\n"
     ]
    },
    {
     "data": {
      "text/plain": [
       "'cdafg dage fgdaec cdbfgae cge gcbdfa fdceb gfceab ge ecfgd | eg eg dfecag ge\\n'"
      ]
     },
     "execution_count": 1,
     "metadata": {},
     "output_type": "execute_result"
    }
   ],
   "source": [
    "from helpers import *\n",
    "import numpy as np\n",
    "\n",
    "\n",
    "data = get_data(8)\n",
    "data[0][:100]"
   ]
  },
  {
   "cell_type": "code",
   "execution_count": 2,
   "id": "9a2978b2-4afd-45e8-b68c-ccd4e63ac7fb",
   "metadata": {},
   "outputs": [
    {
     "data": {
      "text/plain": [
       "[['cdafg',\n",
       "  'dage',\n",
       "  'fgdaec',\n",
       "  'cdbfgae',\n",
       "  'cge',\n",
       "  'gcbdfa',\n",
       "  'fdceb',\n",
       "  'gfceab',\n",
       "  'ge',\n",
       "  'ecfgd'],\n",
       " ['eg', 'eg', 'dfecag', 'ge']]"
      ]
     },
     "execution_count": 2,
     "metadata": {},
     "output_type": "execute_result"
    }
   ],
   "source": [
    "vals = [d.strip().split(' | ') for d in data]\n",
    "final = []\n",
    "for v in vals:\n",
    "    final.append([v[0].split(' '), v[1].split(' ')])\n",
    "final[0]"
   ]
  },
  {
   "cell_type": "code",
   "execution_count": 3,
   "id": "781f9703-79af-46fb-9f31-8830e46cac0b",
   "metadata": {},
   "outputs": [
    {
     "data": {
      "text/plain": [
       "264"
      ]
     },
     "execution_count": 3,
     "metadata": {},
     "output_type": "execute_result"
    }
   ],
   "source": [
    "# 1 = 2, 7 = 3, 4 = 4, 8 = 7\n",
    "c = 0\n",
    "n = [2, 3, 4, 7]\n",
    "for val in final:\n",
    "    for v in val[1]:\n",
    "        if len(v) in n:\n",
    "            c += 1\n",
    "c"
   ]
  },
  {
   "cell_type": "markdown",
   "id": "3ef823be-73ca-415f-b0bd-e87b2d6e2e3d",
   "metadata": {},
   "source": [
    "<h3>Part 2</h3>"
   ]
  },
  {
   "cell_type": "markdown",
   "id": "8c8a49e5-9ccc-48b2-a55a-fec66b24f181",
   "metadata": {},
   "source": [
    "\n"
   ]
  },
  {
   "cell_type": "code",
   "execution_count": 16,
   "id": "dfc5a0c7-794b-493e-a9a8-d98279041bec",
   "metadata": {},
   "outputs": [
    {
     "name": "stdout",
     "output_type": "stream",
     "text": [
      "['e', 'g']\n",
      "['c', 'e', 'g']\n",
      "['a', 'd', 'e', 'g']\n",
      "['a', 'c', 'd', 'f', 'g']\n",
      "['b', 'c', 'd', 'e', 'f']\n",
      "['c', 'd', 'e', 'f', 'g']\n",
      "['a', 'c', 'd', 'e', 'f', 'g']\n",
      "['a', 'b', 'c', 'd', 'f', 'g']\n",
      "['a', 'b', 'c', 'e', 'f', 'g']\n",
      "['a', 'b', 'c', 'd', 'e', 'f', 'g']\n"
     ]
    }
   ],
   "source": [
    "output = []\n",
    "x = 0\n",
    "for val in final:\n",
    "    tmp = []\n",
    "    #           t   l1   r1    m    l2   r2   b\n",
    "    mapping = ['a', 'b', 'c', 'd', 'e', 'f', 'g']\n",
    "    val[0].sort(key=len)\n",
    "    keys = [sorted(v) for v in val[0]]\n",
    "    for i, k in enumerate(keys):\n",
    "        print(k)\n",
    "    x += 1\n",
    "    if x == 1:\n",
    "        break"
   ]
  },
  {
   "cell_type": "code",
   "execution_count": null,
   "id": "cb03dc42-9aa4-4ac5-925d-eafd7139ad56",
   "metadata": {},
   "outputs": [],
   "source": []
  },
  {
   "cell_type": "code",
   "execution_count": null,
   "id": "c47bf2a0-9a42-4735-bed7-1b3492f5c851",
   "metadata": {},
   "outputs": [],
   "source": []
  }
 ],
 "metadata": {
  "kernelspec": {
   "display_name": "Python 3 (ipykernel)",
   "language": "python",
   "name": "python3"
  },
  "language_info": {
   "codemirror_mode": {
    "name": "ipython",
    "version": 3
   },
   "file_extension": ".py",
   "mimetype": "text/x-python",
   "name": "python",
   "nbconvert_exporter": "python",
   "pygments_lexer": "ipython3",
   "version": "3.9.12"
  }
 },
 "nbformat": 4,
 "nbformat_minor": 5
}
